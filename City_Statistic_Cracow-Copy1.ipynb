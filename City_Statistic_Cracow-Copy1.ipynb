{
 "cells": [
  {
   "cell_type": "markdown",
   "metadata": {},
   "source": [
    "# Get all the packages we need to connect With PostgreSQL "
   ]
  },
  {
   "cell_type": "code",
   "execution_count": 1,
   "metadata": {},
   "outputs": [],
   "source": [
    "import pandas as pd\n",
    "import psycopg2\n",
    "import sqlalchemy\n",
    "import matplotlib as plt\n",
    "\n",
    "%matplotlib inline"
   ]
  },
  {
   "cell_type": "markdown",
   "metadata": {},
   "source": [
    "# Create Connection Script to Database.\n",
    "\n",
    "We must first download and install the PostgreSQL with PostGIS extension.\n",
    "Then you need to create the database to later store the OSM data. \n",
    "Create the hstore extension using pgAdmin to store osm-tags in PostGIS: \n",
    "\n",
    "CREATE EXTENSION hstore;\n",
    "CREATE EXTENSION postgis;"
   ]
  },
  {
   "cell_type": "code",
   "execution_count": 4,
   "metadata": {},
   "outputs": [],
   "source": [
    "from sqlalchemy import create_engine \n",
    "from sqlalchemy_utils import create_database, database_exists, drop_database\n",
    "\n",
    "\n",
    "# Postgres username, password, and database name \n",
    "POSTGRES_ADDRESS = 'http://127.0.0.1/'  \n",
    "POSTGRES_PORT = '5432'\n",
    "POSTGRES_USERNAME = 'postgres'  \n",
    "POSTGRES_DBNAME = 'postgres' \n",
    "\n",
    "# A long string that contains the necessary Postgres login information \n",
    "postgres_str = ('postgresql://{username}:{port}/{dbname}'\n",
    "                  .format(username=POSTGRES_USERNAME, \n",
    "                   port=POSTGRES_PORT, \n",
    "                   dbname=POSTGRES_DBNAME)) \n",
    "\n",
    "# Create the connection \n",
    "\n",
    "engine = create_engine('postgresql://postgres: @localhost:5432/postgres') "
   ]
  },
  {
   "cell_type": "markdown",
   "metadata": {},
   "source": [
    "# Connect database then add schema\n",
    "\n",
    "pgsnapshot schemas are PostgreSQL schemas utilising postgis extensions that are capable of storing snapshots of OSM data.\n",
    "The purpose of the pgsnapshot schema is similar but maximises performance through CLUSTERed indexes and embedded tag data.  It imposes additional programming complexity.\n",
    "\n",
    "The following scripts are available for both schemas:\n",
    "\n",
    "pgxxx_schema_0.x.sql - The schema creation script.\n",
    "pgxxx_schema_0.x_linestring.sql - A script for adding way linestring column support.\n",
    "\n",
    "In our program, we join both schemas into 1 file. (pgsnapshot_schema_0.6.sql)\n",
    "\n"
   ]
  },
  {
   "cell_type": "code",
   "execution_count": 5,
   "metadata": {},
   "outputs": [
    {
     "name": "stdout",
     "output_type": "stream",
     "text": [
      "Table created successfully in PostgreSQL \n",
      "PostgreSQL connection is closed\n"
     ]
    }
   ],
   "source": [
    "\n",
    "try: \n",
    "    conn = psycopg2.connect(database='postgres', user='postgres') \n",
    "    conn.set_isolation_level(psycopg2.extensions.ISOLATION_LEVEL_AUTOCOMMIT)\n",
    "    cursor = conn.cursor()\n",
    "\n",
    "    sqlfile = open('pgsnapshot_schema_0.6.sql', 'r')\n",
    "    cursor.execute(sqlfile.read())\n",
    "    conn.commit()\n",
    "    print(\"Table created successfully in PostgreSQL \")\n",
    "except (Exception, psycopg2.DatabaseError) as error :\n",
    "    print (\"Error while creating PostgreSQL table\", error)\n",
    "finally:\n",
    "    #closing database connection.\n",
    "        if(conn):\n",
    "            cursor.close()\n",
    "            conn.close()\n",
    "            print(\"PostgreSQL connection is closed\")\n",
    "    \n",
    "\n"
   ]
  },
  {
   "cell_type": "markdown",
   "metadata": {},
   "source": [
    "For better performance add indices"
   ]
  },
  {
   "cell_type": "code",
   "execution_count": 52,
   "metadata": {},
   "outputs": [],
   "source": [
    "#pd.read_sql_query('''CREATE INDEX idx_nodes_tags ON nodes USING GIN(tags);''', engine)\n",
    "#pd.read_sql_query('''CREATE INDEX idx_ways_tags ON ways USING GIN(tags);''', engine)\n",
    "#pd.read_sql_query('''CREATE INDEX idx_relations_tags ON relations USING GIN(tags);''', engine)"
   ]
  },
  {
   "cell_type": "markdown",
   "metadata": {},
   "source": [
    "# Now the database is ready to be filled with the OSM data, we need to download osm data from GeoFabrik"
   ]
  },
  {
   "cell_type": "code",
   "execution_count": 8,
   "metadata": {},
   "outputs": [
    {
     "name": "stdout",
     "output_type": "stream",
     "text": [
      "Beginning file download with wget module\n"
     ]
    },
    {
     "data": {
      "text/plain": [
       "'D:/master-material/semester1/ADS/project/malopolskie-latest.osm.pbf'"
      ]
     },
     "execution_count": 8,
     "metadata": {},
     "output_type": "execute_result"
    }
   ],
   "source": [
    "import wget\n",
    "\n",
    "print('Beginning file download with wget module')\n",
    "\n",
    "url = 'https://download.geofabrik.de/europe/poland/malopolskie-latest.osm.pbf'\n",
    "wget.download(url, 'D:/master-material/semester1/ADS/project/malopolskie-latest.osm.pbf')"
   ]
  },
  {
   "cell_type": "markdown",
   "metadata": {},
   "source": [
    "# Crop dump osm file according to the bounding from overpass api using osmosis\n",
    "\n",
    "Because the smallest OSM dump from GeoFabrik is Malopolskie region and we need to analyze the Cracow City only, we have to crop it using Overpass Turbo API. \n",
    "\n",
    "1. Open the Overpass Turbo API\n",
    "2. Estimate the bounding box which contains the region's boundary\n",
    "3. Save a margin of certain width to be used to crop the OSM dump of Malopolskie"
   ]
  },
  {
   "cell_type": "code",
   "execution_count": 23,
   "metadata": {},
   "outputs": [
    {
     "data": {
      "text/plain": [
       "0"
      ]
     },
     "execution_count": 23,
     "metadata": {},
     "output_type": "execute_result"
    }
   ],
   "source": [
    "import subprocess\n",
    "subprocess.call(['D:/master-material/semester1/ADS/osmosis/bin/osmosis.bat','--read-pbf','D:/master-material/semester1/ADS/project/malopolskie-latest.osm.pbf',\n",
    "                 '--bounding-box','top=50.1712','left=19.685','bottom=49.9221','right=20.3240','--write-pbf','D:/master-material/semester1/ADS/project/krakowlatest.osm.pbf'])"
   ]
  },
  {
   "cell_type": "markdown",
   "metadata": {},
   "source": [
    "# Import osm data to Postgis using osmosis"
   ]
  },
  {
   "cell_type": "code",
   "execution_count": null,
   "metadata": {},
   "outputs": [],
   "source": [
    "#import osm data to postgis using osmosis\n",
    "subprocess.call(['D:/master-material/semester1/ADS/osmosis/bin/osmosis.bat','--read-pbf','D:/master-material/semester1/ADS/project/krakowlatest.osm.pbf',\n",
    "                 '--write-pgsql','host=\"localhost\"','database=\"postgres\"','user=\"postgres\"'])"
   ]
  },
  {
   "cell_type": "markdown",
   "metadata": {},
   "source": [
    "# Calculate the length of roads which fit within the boundary, grouped by OSM highway type."
   ]
  },
  {
   "cell_type": "code",
   "execution_count": 56,
   "metadata": {},
   "outputs": [],
   "source": [
    "df = pd.read_sql_query(''' select tags->'highway', sum(st_length(linestring::geography)) from ways where tags?'highway' group by tags->'highway' order by sum desc;''', engine)\n",
    "df2 = df.rename(columns = {'?column?':'Highways','sum':'Total Lenght'})\n"
   ]
  },
  {
   "cell_type": "markdown",
   "metadata": {},
   "source": [
    "# City Statictical Analysis"
   ]
  },
  {
   "cell_type": "code",
   "execution_count": 57,
   "metadata": {},
   "outputs": [
    {
     "data": {
      "text/plain": [
       "Text(0, 0.5, 'Length (km)')"
      ]
     },
     "execution_count": 57,
     "metadata": {},
     "output_type": "execute_result"
    },
    {
     "data": {
      "image/png": "[encoded data removed]",
      "text/plain": [
       "<Figure size 1080x504 with 1 Axes>"
      ]
     },
     "metadata": {
      "needs_background": "light"
     },
     "output_type": "display_data"
    }
   ],
   "source": [
    "\n",
    "data = df2.groupby('Highways')\n",
    "data.size()\n",
    "data_total = (data.sum())/1000\n",
    "\n",
    "my_plot = data_total.plot(kind='bar',legend=None,title=\"Highway Length in Krakow\", figsize=(15,7))\n",
    "my_plot.set_xlabel(\"Highway Type\")\n",
    "my_plot.set_ylabel(\"Length (km)\")"
   ]
  },
  {
   "cell_type": "markdown",
   "metadata": {},
   "source": [
    "# Presenting the Table with Lenghts of the roads ordered from the Biggest to the Smallest"
   ]
  },
  {
   "cell_type": "code",
   "execution_count": 58,
   "metadata": {},
   "outputs": [
    {
     "data": {
      "text/html": [
       "<div>\n",
       "<style scoped>\n",
       "    .dataframe tbody tr th:only-of-type {\n",
       "        vertical-align: middle;\n",
       "    }\n",
       "\n",
       "    .dataframe tbody tr th {\n",
       "        vertical-align: top;\n",
       "    }\n",
       "\n",
       "    .dataframe thead th {\n",
       "        text-align: right;\n",
       "    }\n",
       "</style>\n",
       "<table border=\"1\" class=\"dataframe\">\n",
       "  <thead>\n",
       "    <tr style=\"text-align: right;\">\n",
       "      <th></th>\n",
       "      <th>Highways</th>\n",
       "      <th>Total Lenght</th>\n",
       "      <th>Lenght (KM)</th>\n",
       "    </tr>\n",
       "  </thead>\n",
       "  <tbody>\n",
       "    <tr>\n",
       "      <th>0</th>\n",
       "      <td>residential</td>\n",
       "      <td>2.296844e+06</td>\n",
       "      <td>2296.843911</td>\n",
       "    </tr>\n",
       "    <tr>\n",
       "      <th>1</th>\n",
       "      <td>track</td>\n",
       "      <td>2.176083e+06</td>\n",
       "      <td>2176.082844</td>\n",
       "    </tr>\n",
       "    <tr>\n",
       "      <th>2</th>\n",
       "      <td>footway</td>\n",
       "      <td>1.919978e+06</td>\n",
       "      <td>1919.977894</td>\n",
       "    </tr>\n",
       "    <tr>\n",
       "      <th>3</th>\n",
       "      <td>service</td>\n",
       "      <td>1.883521e+06</td>\n",
       "      <td>1883.520683</td>\n",
       "    </tr>\n",
       "    <tr>\n",
       "      <th>4</th>\n",
       "      <td>tertiary</td>\n",
       "      <td>8.010958e+05</td>\n",
       "      <td>801.095803</td>\n",
       "    </tr>\n",
       "    <tr>\n",
       "      <th>5</th>\n",
       "      <td>path</td>\n",
       "      <td>6.999229e+05</td>\n",
       "      <td>699.922910</td>\n",
       "    </tr>\n",
       "    <tr>\n",
       "      <th>6</th>\n",
       "      <td>unclassified</td>\n",
       "      <td>5.593805e+05</td>\n",
       "      <td>559.380525</td>\n",
       "    </tr>\n",
       "    <tr>\n",
       "      <th>7</th>\n",
       "      <td>primary</td>\n",
       "      <td>2.653279e+05</td>\n",
       "      <td>265.327857</td>\n",
       "    </tr>\n",
       "    <tr>\n",
       "      <th>8</th>\n",
       "      <td>secondary</td>\n",
       "      <td>2.168265e+05</td>\n",
       "      <td>216.826538</td>\n",
       "    </tr>\n",
       "    <tr>\n",
       "      <th>9</th>\n",
       "      <td>living_street</td>\n",
       "      <td>1.419390e+05</td>\n",
       "      <td>141.938979</td>\n",
       "    </tr>\n",
       "    <tr>\n",
       "      <th>10</th>\n",
       "      <td>proposed</td>\n",
       "      <td>1.331125e+05</td>\n",
       "      <td>133.112519</td>\n",
       "    </tr>\n",
       "    <tr>\n",
       "      <th>11</th>\n",
       "      <td>motorway</td>\n",
       "      <td>1.063784e+05</td>\n",
       "      <td>106.378438</td>\n",
       "    </tr>\n",
       "    <tr>\n",
       "      <th>12</th>\n",
       "      <td>cycleway</td>\n",
       "      <td>7.729664e+04</td>\n",
       "      <td>77.296635</td>\n",
       "    </tr>\n",
       "    <tr>\n",
       "      <th>13</th>\n",
       "      <td>construction</td>\n",
       "      <td>4.856662e+04</td>\n",
       "      <td>48.566615</td>\n",
       "    </tr>\n",
       "    <tr>\n",
       "      <th>14</th>\n",
       "      <td>pedestrian</td>\n",
       "      <td>4.142955e+04</td>\n",
       "      <td>41.429553</td>\n",
       "    </tr>\n",
       "    <tr>\n",
       "      <th>15</th>\n",
       "      <td>motorway_link</td>\n",
       "      <td>2.207159e+04</td>\n",
       "      <td>22.071592</td>\n",
       "    </tr>\n",
       "    <tr>\n",
       "      <th>16</th>\n",
       "      <td>steps</td>\n",
       "      <td>2.196001e+04</td>\n",
       "      <td>21.960007</td>\n",
       "    </tr>\n",
       "    <tr>\n",
       "      <th>17</th>\n",
       "      <td>bus_stop</td>\n",
       "      <td>2.079166e+04</td>\n",
       "      <td>20.791660</td>\n",
       "    </tr>\n",
       "    <tr>\n",
       "      <th>18</th>\n",
       "      <td>trunk</td>\n",
       "      <td>1.988103e+04</td>\n",
       "      <td>19.881033</td>\n",
       "    </tr>\n",
       "    <tr>\n",
       "      <th>19</th>\n",
       "      <td>platform</td>\n",
       "      <td>9.830512e+03</td>\n",
       "      <td>9.830512</td>\n",
       "    </tr>\n",
       "    <tr>\n",
       "      <th>20</th>\n",
       "      <td>primary_link</td>\n",
       "      <td>7.828636e+03</td>\n",
       "      <td>7.828636</td>\n",
       "    </tr>\n",
       "    <tr>\n",
       "      <th>21</th>\n",
       "      <td>trunk_link</td>\n",
       "      <td>4.257807e+03</td>\n",
       "      <td>4.257807</td>\n",
       "    </tr>\n",
       "    <tr>\n",
       "      <th>22</th>\n",
       "      <td>secondary_link</td>\n",
       "      <td>3.591201e+03</td>\n",
       "      <td>3.591201</td>\n",
       "    </tr>\n",
       "    <tr>\n",
       "      <th>23</th>\n",
       "      <td>services</td>\n",
       "      <td>2.940438e+03</td>\n",
       "      <td>2.940438</td>\n",
       "    </tr>\n",
       "    <tr>\n",
       "      <th>24</th>\n",
       "      <td>road</td>\n",
       "      <td>2.716364e+03</td>\n",
       "      <td>2.716364</td>\n",
       "    </tr>\n",
       "    <tr>\n",
       "      <th>25</th>\n",
       "      <td>tertiary_link</td>\n",
       "      <td>2.541715e+03</td>\n",
       "      <td>2.541715</td>\n",
       "    </tr>\n",
       "    <tr>\n",
       "      <th>26</th>\n",
       "      <td>raceway</td>\n",
       "      <td>2.448360e+03</td>\n",
       "      <td>2.448360</td>\n",
       "    </tr>\n",
       "    <tr>\n",
       "      <th>27</th>\n",
       "      <td>bridleway</td>\n",
       "      <td>1.995760e+03</td>\n",
       "      <td>1.995760</td>\n",
       "    </tr>\n",
       "    <tr>\n",
       "      <th>28</th>\n",
       "      <td>rest_area</td>\n",
       "      <td>1.199757e+03</td>\n",
       "      <td>1.199757</td>\n",
       "    </tr>\n",
       "    <tr>\n",
       "      <th>29</th>\n",
       "      <td>elevator</td>\n",
       "      <td>3.007595e+02</td>\n",
       "      <td>0.300759</td>\n",
       "    </tr>\n",
       "    <tr>\n",
       "      <th>30</th>\n",
       "      <td>corridor</td>\n",
       "      <td>4.198136e+01</td>\n",
       "      <td>0.041981</td>\n",
       "    </tr>\n",
       "    <tr>\n",
       "      <th>31</th>\n",
       "      <td>crossing</td>\n",
       "      <td>1.861438e+01</td>\n",
       "      <td>0.018614</td>\n",
       "    </tr>\n",
       "  </tbody>\n",
       "</table>\n",
       "</div>"
      ],
      "text/plain": [
       "          Highways  Total Lenght  Lenght (KM)\n",
       "0      residential  2.296844e+06  2296.843911\n",
       "1            track  2.176083e+06  2176.082844\n",
       "2          footway  1.919978e+06  1919.977894\n",
       "3          service  1.883521e+06  1883.520683\n",
       "4         tertiary  8.010958e+05   801.095803\n",
       "5             path  6.999229e+05   699.922910\n",
       "6     unclassified  5.593805e+05   559.380525\n",
       "7          primary  2.653279e+05   265.327857\n",
       "8        secondary  2.168265e+05   216.826538\n",
       "9    living_street  1.419390e+05   141.938979\n",
       "10        proposed  1.331125e+05   133.112519\n",
       "11        motorway  1.063784e+05   106.378438\n",
       "12        cycleway  7.729664e+04    77.296635\n",
       "13    construction  4.856662e+04    48.566615\n",
       "14      pedestrian  4.142955e+04    41.429553\n",
       "15   motorway_link  2.207159e+04    22.071592\n",
       "16           steps  2.196001e+04    21.960007\n",
       "17        bus_stop  2.079166e+04    20.791660\n",
       "18           trunk  1.988103e+04    19.881033\n",
       "19        platform  9.830512e+03     9.830512\n",
       "20    primary_link  7.828636e+03     7.828636\n",
       "21      trunk_link  4.257807e+03     4.257807\n",
       "22  secondary_link  3.591201e+03     3.591201\n",
       "23        services  2.940438e+03     2.940438\n",
       "24            road  2.716364e+03     2.716364\n",
       "25   tertiary_link  2.541715e+03     2.541715\n",
       "26         raceway  2.448360e+03     2.448360\n",
       "27       bridleway  1.995760e+03     1.995760\n",
       "28       rest_area  1.199757e+03     1.199757\n",
       "29        elevator  3.007595e+02     0.300759\n",
       "30        corridor  4.198136e+01     0.041981\n",
       "31        crossing  1.861438e+01     0.018614"
      ]
     },
     "execution_count": 58,
     "metadata": {},
     "output_type": "execute_result"
    }
   ],
   "source": [
    "df2['Lenght (KM)'] = df2['Total Lenght']/1000\n",
    "df2"
   ]
  },
  {
   "cell_type": "code",
   "execution_count": null,
   "metadata": {},
   "outputs": [],
   "source": []
  }
 ],
 "metadata": {
  "kernelspec": {
   "display_name": "Python 3",
   "language": "python",
   "name": "python3"
  },
  "language_info": {
   "codemirror_mode": {
    "name": "ipython",
    "version": 3
   },
   "file_extension": ".py",
   "mimetype": "text/x-python",
   "name": "python",
   "nbconvert_exporter": "python",
   "pygments_lexer": "ipython3",
   "version": "3.6.0"
  }
 },
 "nbformat": 4,
 "nbformat_minor": 2
}
